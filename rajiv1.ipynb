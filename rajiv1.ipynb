{
 "cells": [
  {
   "cell_type": "markdown",
   "id": "be60bdb3-99af-44b1-b015-4ddccc6d5c73",
   "metadata": {},
   "source": [
    "                                                              assignment"
   ]
  },
  {
   "cell_type": "raw",
   "id": "723555b0-0d33-4b58-b620-eb0fdcde4cb9",
   "metadata": {},
   "source": [
    "Q1. Create one variable containing following type of data:\n",
    "(i) string\n",
    "(ii) list\n",
    "(iii) float\n",
    "(iv) tuple"
   ]
  },
  {
   "cell_type": "code",
   "execution_count": 1,
   "id": "059aa028-500f-47d5-8460-5301b8e64274",
   "metadata": {},
   "outputs": [],
   "source": [
    "l = [1,2,3,4,5,6,'rajiv','kumar',33.34,3+7j,True,(7,8,9)]"
   ]
  },
  {
   "cell_type": "code",
   "execution_count": 2,
   "id": "86f54c1d-ad23-45cd-b47f-624fc8b63886",
   "metadata": {},
   "outputs": [
    {
     "data": {
      "text/plain": [
       "[1, 2, 3, 4, 5, 6, 'rajiv', 'kumar', 33.34, (3+7j), True, (7, 8, 9)]"
      ]
     },
     "execution_count": 2,
     "metadata": {},
     "output_type": "execute_result"
    }
   ],
   "source": [
    "l"
   ]
  },
  {
   "cell_type": "code",
   "execution_count": 3,
   "id": "87246477-a080-4afb-b5ca-51d5e772e1b6",
   "metadata": {},
   "outputs": [
    {
     "data": {
      "text/plain": [
       "list"
      ]
     },
     "execution_count": 3,
     "metadata": {},
     "output_type": "execute_result"
    }
   ],
   "source": [
    "type(l)"
   ]
  },
  {
   "cell_type": "code",
   "execution_count": 5,
   "id": "62fbf561-7428-45e0-8cd3-1b3e536d7204",
   "metadata": {},
   "outputs": [
    {
     "data": {
      "text/plain": [
       "'rajiv'"
      ]
     },
     "execution_count": 5,
     "metadata": {},
     "output_type": "execute_result"
    }
   ],
   "source": [
    "l[6]"
   ]
  },
  {
   "cell_type": "code",
   "execution_count": 6,
   "id": "f6629a1d-9321-4977-9b7a-516a567b08ec",
   "metadata": {},
   "outputs": [
    {
     "data": {
      "text/plain": [
       "str"
      ]
     },
     "execution_count": 6,
     "metadata": {},
     "output_type": "execute_result"
    }
   ],
   "source": [
    "type(l[6])"
   ]
  },
  {
   "cell_type": "code",
   "execution_count": 8,
   "id": "89dfc45a-8fdc-4583-b292-d7e1a126f022",
   "metadata": {},
   "outputs": [
    {
     "data": {
      "text/plain": [
       "33.34"
      ]
     },
     "execution_count": 8,
     "metadata": {},
     "output_type": "execute_result"
    }
   ],
   "source": [
    "l[8]"
   ]
  },
  {
   "cell_type": "code",
   "execution_count": 9,
   "id": "6e40260d-177c-42fb-90fa-0c6ffabb3feb",
   "metadata": {},
   "outputs": [
    {
     "data": {
      "text/plain": [
       "float"
      ]
     },
     "execution_count": 9,
     "metadata": {},
     "output_type": "execute_result"
    }
   ],
   "source": [
    "type(l[8])"
   ]
  },
  {
   "cell_type": "code",
   "execution_count": 10,
   "id": "c76858cf-2a6b-4f3d-9785-299338ab24de",
   "metadata": {},
   "outputs": [
    {
     "data": {
      "text/plain": [
       "(7, 8, 9)"
      ]
     },
     "execution_count": 10,
     "metadata": {},
     "output_type": "execute_result"
    }
   ],
   "source": [
    "l[11]"
   ]
  },
  {
   "cell_type": "code",
   "execution_count": 11,
   "id": "a6ee3dc6-cc2f-431b-baff-55c51a96163a",
   "metadata": {},
   "outputs": [
    {
     "data": {
      "text/plain": [
       "tuple"
      ]
     },
     "execution_count": 11,
     "metadata": {},
     "output_type": "execute_result"
    }
   ],
   "source": [
    "type(l[11])"
   ]
  },
  {
   "cell_type": "raw",
   "id": "3f3c827d-c97c-4109-be6a-ab96c0b43bbd",
   "metadata": {},
   "source": [
    "Q2. Given are some following variables containing data:\n",
    "(i) var1 = ‘ ‘\n",
    "(ii) var2 = ‘[ DS , ML , Python]’\n",
    "(iii) var3 = [ ‘DS’ , ’ML’ , ‘Python’ ]\n",
    "(iv) var4 = 1.\n",
    "What will be the data type of the above given variable."
   ]
  },
  {
   "cell_type": "code",
   "execution_count": 13,
   "id": "4777bd17-a609-473a-a6e3-5e1e1a65025f",
   "metadata": {},
   "outputs": [],
   "source": [
    "var1 = \"sonu\""
   ]
  },
  {
   "cell_type": "code",
   "execution_count": 14,
   "id": "3d12a4aa-0c76-4821-a224-59e92ce5bc92",
   "metadata": {},
   "outputs": [
    {
     "data": {
      "text/plain": [
       "str"
      ]
     },
     "execution_count": 14,
     "metadata": {},
     "output_type": "execute_result"
    }
   ],
   "source": [
    "type(var1)"
   ]
  },
  {
   "cell_type": "code",
   "execution_count": 15,
   "id": "27bf88cd-aa38-4a9a-914c-6b27b3ebb1b4",
   "metadata": {},
   "outputs": [],
   "source": [
    "var2 = '[ DS, ML, python]'"
   ]
  },
  {
   "cell_type": "code",
   "execution_count": 16,
   "id": "719c5e85-5330-4879-9516-1da71ce03865",
   "metadata": {},
   "outputs": [
    {
     "data": {
      "text/plain": [
       "str"
      ]
     },
     "execution_count": 16,
     "metadata": {},
     "output_type": "execute_result"
    }
   ],
   "source": [
    "type(var2)"
   ]
  },
  {
   "cell_type": "code",
   "execution_count": 17,
   "id": "de0db51e-331c-442f-8358-f2efcf284a5a",
   "metadata": {},
   "outputs": [],
   "source": [
    "var3 = [ 'DS', 'ML','python']"
   ]
  },
  {
   "cell_type": "code",
   "execution_count": 18,
   "id": "17a05b2c-5bda-4e89-821d-108bd5a30ba2",
   "metadata": {},
   "outputs": [
    {
     "data": {
      "text/plain": [
       "list"
      ]
     },
     "execution_count": 18,
     "metadata": {},
     "output_type": "execute_result"
    }
   ],
   "source": [
    "type(var3)"
   ]
  },
  {
   "cell_type": "code",
   "execution_count": 19,
   "id": "ce090db4-dc85-45f8-b488-fe20d8849223",
   "metadata": {},
   "outputs": [],
   "source": [
    "var = 1."
   ]
  },
  {
   "cell_type": "code",
   "execution_count": 20,
   "id": "a5debbd5-a882-4032-b5d3-5478eb1fd3cf",
   "metadata": {},
   "outputs": [
    {
     "data": {
      "text/plain": [
       "float"
      ]
     },
     "execution_count": 20,
     "metadata": {},
     "output_type": "execute_result"
    }
   ],
   "source": [
    "type(var)"
   ]
  },
  {
   "cell_type": "raw",
   "id": "b9dc7808-987c-4833-87c3-1a0224facb8c",
   "metadata": {},
   "source": [
    "Q3. Explain the use of the following operators using an example:\n",
    "(i) /\n",
    "(ii) %\n",
    "(iii) //\n",
    "(iv) **"
   ]
  },
  {
   "cell_type": "code",
   "execution_count": 21,
   "id": "073c6747-7245-4172-a207-5ceae088df7d",
   "metadata": {},
   "outputs": [],
   "source": [
    "a = 6\n",
    "b = 3"
   ]
  },
  {
   "cell_type": "code",
   "execution_count": 22,
   "id": "0547a2b4-d1ea-4c1c-b03d-f6332d25485c",
   "metadata": {},
   "outputs": [],
   "source": [
    "r = 6/3"
   ]
  },
  {
   "cell_type": "code",
   "execution_count": 23,
   "id": "758fbcde-6805-4ad1-8897-2618d03eaa3c",
   "metadata": {},
   "outputs": [],
   "source": [
    "a = 8\n",
    "b = 3"
   ]
  },
  {
   "cell_type": "code",
   "execution_count": 24,
   "id": "8e3b94e3-d315-43f3-ac4c-397c436c12a7",
   "metadata": {},
   "outputs": [],
   "source": [
    "r = 8%3"
   ]
  },
  {
   "cell_type": "code",
   "execution_count": 25,
   "id": "eeadb7af-9cf7-4a0a-b8cb-ba03ff9e6526",
   "metadata": {},
   "outputs": [],
   "source": [
    "a = 12\n",
    "b = 3"
   ]
  },
  {
   "cell_type": "code",
   "execution_count": 26,
   "id": "2d827020-7809-44f7-97b6-c44a827a9f80",
   "metadata": {},
   "outputs": [],
   "source": [
    "r= 12//3"
   ]
  },
  {
   "cell_type": "code",
   "execution_count": 27,
   "id": "18a7552b-af2e-4661-a7d6-d043d4db7286",
   "metadata": {},
   "outputs": [],
   "source": [
    "a = 3\n",
    "b = 2"
   ]
  },
  {
   "cell_type": "code",
   "execution_count": 28,
   "id": "a3cd5875-45e8-4ee5-9962-97023c999b4e",
   "metadata": {},
   "outputs": [],
   "source": [
    "r = 2**3"
   ]
  },
  {
   "cell_type": "markdown",
   "id": "1c8028d0-b30c-4853-82c1-2f24be856959",
   "metadata": {},
   "source": [
    "Q4. Create a list of length 10 of your choice containing multiple types of data. Using for loop print the\n",
    "element and its data type."
   ]
  },
  {
   "cell_type": "code",
   "execution_count": 29,
   "id": "8ba3dd42-fc98-4c6e-b7df-dd42e3fe4b01",
   "metadata": {},
   "outputs": [],
   "source": [
    "l = [2,3,4,5,'rajiv','sonu',33.34,3+6j,True,(6,7,8)]"
   ]
  },
  {
   "cell_type": "code",
   "execution_count": 32,
   "id": "e7e6f581-9a8e-448b-ae19-9831db5ebfac",
   "metadata": {},
   "outputs": [
    {
     "data": {
      "text/plain": [
       "[2, 3, 4, 5, 'rajiv', 'sonu', 33.34, (3+6j), True, (6, 7, 8)]"
      ]
     },
     "execution_count": 32,
     "metadata": {},
     "output_type": "execute_result"
    }
   ],
   "source": [
    "l"
   ]
  },
  {
   "cell_type": "code",
   "execution_count": 38,
   "id": "58469b16-5e1e-40a1-ba6a-658e483bc98b",
   "metadata": {},
   "outputs": [
    {
     "name": "stdout",
     "output_type": "stream",
     "text": [
      "i : 2\n",
      "data type : <class 'int'>\n",
      "\n",
      "i : 3\n",
      "data type : <class 'int'>\n",
      "\n",
      "i : 4\n",
      "data type : <class 'int'>\n",
      "\n",
      "i : 5\n",
      "data type : <class 'int'>\n",
      "\n",
      "i : rajiv\n",
      "data type : <class 'str'>\n",
      "\n",
      "i : sonu\n",
      "data type : <class 'str'>\n",
      "\n",
      "i : 33.34\n",
      "data type : <class 'float'>\n",
      "\n",
      "i : (3+6j)\n",
      "data type : <class 'complex'>\n",
      "\n",
      "i : True\n",
      "data type : <class 'bool'>\n",
      "\n",
      "i : (6, 7, 8)\n",
      "data type : <class 'tuple'>\n",
      "\n"
     ]
    }
   ],
   "source": [
    "for i in l :\n",
    "    print('i :', i)\n",
    "    print('data type :', type(i))\n",
    "    print()"
   ]
  },
  {
   "cell_type": "markdown",
   "id": "dccf5a02-e161-4d0a-b748-2c0fb3032889",
   "metadata": {},
   "source": [
    "Q5. Using a while loop, verify if the number A is purely divisible by number B and if so then how many\n",
    "times it can be divisible."
   ]
  },
  {
   "cell_type": "code",
   "execution_count": 42,
   "id": "7dd5161d-59ef-4600-a489-1e6e12bc6496",
   "metadata": {},
   "outputs": [
    {
     "name": "stdout",
     "output_type": "stream",
     "text": [
      "nummber of times 2 divides 1.0 is 3\n"
     ]
    }
   ],
   "source": [
    "a = 8\n",
    "b = 2\n",
    "\n",
    "count = 0\n",
    "while a % b == 0 :\n",
    "    a = a/b\n",
    "    count += 1\n",
    "print(\"nummber of times\", b, \"divides\", a, \"is\",count)"
   ]
  },
  {
   "cell_type": "markdown",
   "id": "4280b8c3-9add-4dae-9f1f-67d9e53660a6",
   "metadata": {},
   "source": [
    "Q6. Create a list containing 25 int type data. Using for loop and if-else condition print if the element is\n",
    "divisible by 3 or not."
   ]
  },
  {
   "cell_type": "code",
   "execution_count": 45,
   "id": "d30fe2a7-4417-417b-9f0e-ad06dc44d658",
   "metadata": {},
   "outputs": [],
   "source": [
    "l = [2,4,6,8,10,12,14,16,18,20,22,24,26,28,3,5,7,9,1,13,17,19,9,11,23,27]"
   ]
  },
  {
   "cell_type": "code",
   "execution_count": 46,
   "id": "017ac485-68df-488f-95dc-3f16c38a6568",
   "metadata": {},
   "outputs": [
    {
     "name": "stdout",
     "output_type": "stream",
     "text": [
      "2 is not divisible by 3\n",
      "4 is not divisible by 3\n",
      "6 is divisible by 3\n",
      "8 is not divisible by 3\n",
      "10 is not divisible by 3\n",
      "12 is divisible by 3\n",
      "14 is not divisible by 3\n",
      "16 is not divisible by 3\n",
      "18 is divisible by 3\n",
      "20 is not divisible by 3\n",
      "22 is not divisible by 3\n",
      "24 is divisible by 3\n",
      "26 is not divisible by 3\n",
      "28 is not divisible by 3\n",
      "3 is divisible by 3\n",
      "5 is not divisible by 3\n",
      "7 is not divisible by 3\n",
      "9 is divisible by 3\n",
      "1 is not divisible by 3\n",
      "13 is not divisible by 3\n",
      "17 is not divisible by 3\n",
      "19 is not divisible by 3\n",
      "9 is divisible by 3\n",
      "11 is not divisible by 3\n",
      "23 is not divisible by 3\n",
      "27 is divisible by 3\n"
     ]
    }
   ],
   "source": [
    "for i in l :\n",
    "    if i % 3 == 0:\n",
    "        print( i,\"is divisible by 3\")\n",
    "    else:\n",
    "        print( i, \"is not divisible by 3\")"
   ]
  },
  {
   "cell_type": "markdown",
   "id": "3f0398d9-10f1-4fe9-9dab-369b13f68989",
   "metadata": {},
   "source": [
    "Q7. What do you understand about mutable and immutable data types? Give examples for both showing\n",
    "this property."
   ]
  },
  {
   "cell_type": "raw",
   "id": "d7d05735-cdea-4140-a5e4-6d9d09314ae4",
   "metadata": {},
   "source": [
    "# immutable data types are those whose values cannot be modified once they are created.\n",
    "# Any operation that appears to modify an immutable data type actually creates a new value."
   ]
  },
  {
   "cell_type": "raw",
   "id": "a66fbf6c-1817-49ec-b4a8-213a4cd172db",
   "metadata": {},
   "source": [
    "# mutable data types are those that can be modified after they are created.\n",
    "# Operations on mutable data types can directly modify the value without creating a new object."
   ]
  },
  {
   "cell_type": "markdown",
   "id": "ad74cc19-5725-4051-8793-582691739894",
   "metadata": {},
   "source": [
    "immuatable"
   ]
  },
  {
   "cell_type": "code",
   "execution_count": 47,
   "id": "d49a0804-4369-4460-b43d-304f21e6a32b",
   "metadata": {},
   "outputs": [
    {
     "name": "stdout",
     "output_type": "stream",
     "text": [
      "Hello\n",
      "Hello World\n"
     ]
    }
   ],
   "source": [
    "string = \"Hello\"\n",
    "print(string)  # Output: Hello\n",
    "\n",
    "string = string + \" World\"\n",
    "print(string)  "
   ]
  },
  {
   "cell_type": "markdown",
   "id": "9d83f8ef-09eb-4649-886e-bf3b808b7da1",
   "metadata": {},
   "source": [
    "mutable"
   ]
  },
  {
   "cell_type": "code",
   "execution_count": null,
   "id": "d8e7daff-3e0f-4ec9-bfa3-e52b7bb38922",
   "metadata": {},
   "outputs": [],
   "source": []
  }
 ],
 "metadata": {
  "kernelspec": {
   "display_name": "Python 3 (ipykernel)",
   "language": "python",
   "name": "python3"
  },
  "language_info": {
   "codemirror_mode": {
    "name": "ipython",
    "version": 3
   },
   "file_extension": ".py",
   "mimetype": "text/x-python",
   "name": "python",
   "nbconvert_exporter": "python",
   "pygments_lexer": "ipython3",
   "version": "3.10.8"
  }
 },
 "nbformat": 4,
 "nbformat_minor": 5
}
